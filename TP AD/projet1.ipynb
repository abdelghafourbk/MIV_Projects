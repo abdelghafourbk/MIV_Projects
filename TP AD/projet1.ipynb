{
 "cells": [
  {
   "cell_type": "code",
   "execution_count": 1,
   "id": "024e3b28",
   "metadata": {},
   "outputs": [],
   "source": [
    "import pandas as pd\n",
    "import numpy as np\n",
    "import matplotlib.pyplot as plt\n",
    "import seaborn as sns"
   ]
  },
  {
   "cell_type": "markdown",
   "id": "649419c0",
   "metadata": {},
   "source": [
    "## Matrice de données"
   ]
  },
  {
   "cell_type": "code",
   "execution_count": 2,
   "id": "1e6c81aa",
   "metadata": {},
   "outputs": [
    {
     "name": "stdout",
     "output_type": "stream",
     "text": [
      "                     L-H    L-F    M-H    M-F    D-H   D-F\n",
      "Informatique       54861  22559  48293  17078  11491  4407\n",
      "Science et vie     37317  69373  21693  42371   4342  4029\n",
      "Langues            21291  62736   3874  13186    907  1839\n",
      "Droit              17850  48691   5853  17672   2401  4531\n",
      "Génie civile       17253   8248   4172   1963    328   188\n",
      "Administration     12388  18574   2884   4183      0     0\n",
      "Sciences humaines  41050  94346  20447  43016   6972  7787\n",
      "Sciences humaines    726   1779    811   2356     15    13\n",
      "Gestion            37157  38387  26929  29466   2552  1983\n",
      "Biologie           15004  24318   8457  11090   5232  5641\n"
     ]
    }
   ],
   "source": [
    "K = np.array([[54861, 22559, 48293, 17078, 11491, 4407],\n",
    "     [37317, 69373, 21693, 42371, 4342, 4029],\n",
    "     [21291, 62736, 3874, 13186, 907, 1839],\n",
    "     [17850, 48691, 5853, 17672, 2401, 4531],\n",
    "     [17253, 8248, 4172, 1963, 328, 188],\n",
    "     [12388, 18574, 2884, 4183, 0, 0],\n",
    "     [41050, 94346, 20447, 43016, 6972, 7787],\n",
    "     [726, 1779, 811, 2356, 15, 13],\n",
    "     [37157, 38387, 26929, 29466, 2552, 1983],\n",
    "     [15004, 24318, 8457, 11090, 5232, 5641]])\n",
    "\n",
    "columns = ['L-H', 'L-F', 'M-H', 'M-F', 'D-H', 'D-F']\n",
    "rows = ['Informatique', 'Science et vie', 'Langues', 'Droit', 'Génie civile', 'Administration', 'Sciences humaines', 'Sciences humaines', 'Gestion', 'Biologie']\n",
    "\n",
    "df = pd.DataFrame(K, index=rows, columns=columns)\n",
    "\n",
    "print(df)"
   ]
  },
  {
   "cell_type": "markdown",
   "id": "ada3490c",
   "metadata": {},
   "source": [
    "### 1) Déterminer et afficher la matrice des fréquences relatives ainsi que les fréquences marginales."
   ]
  },
  {
   "cell_type": "code",
   "execution_count": 58,
   "id": "9b0299e3",
   "metadata": {},
   "outputs": [
    {
     "name": "stdout",
     "output_type": "stream",
     "text": [
      "Matrice des frequences: \n",
      " [[0.053 0.022 0.047 0.017 0.011 0.004]\n",
      " [0.036 0.067 0.021 0.041 0.004 0.004]\n",
      " [0.021 0.061 0.004 0.013 0.001 0.002]\n",
      " [0.017 0.047 0.006 0.017 0.002 0.004]\n",
      " [0.017 0.008 0.004 0.002 0.    0.   ]\n",
      " [0.012 0.018 0.003 0.004 0.    0.   ]\n",
      " [0.04  0.091 0.02  0.042 0.007 0.008]\n",
      " [0.001 0.002 0.001 0.002 0.    0.   ]\n",
      " [0.036 0.037 0.026 0.028 0.002 0.002]\n",
      " [0.015 0.024 0.008 0.011 0.005 0.005]]\n",
      "\n",
      "\n",
      "The frequecny matrix including marginals: \n",
      " [[0.053 0.022 0.047 0.017 0.011 0.004 0.153]\n",
      " [0.036 0.067 0.021 0.041 0.004 0.004 0.173]\n",
      " [0.021 0.061 0.004 0.013 0.001 0.002 0.1  ]\n",
      " [0.017 0.047 0.006 0.017 0.002 0.004 0.094]\n",
      " [0.017 0.008 0.004 0.002 0.    0.    0.031]\n",
      " [0.012 0.018 0.003 0.004 0.    0.    0.037]\n",
      " [0.04  0.091 0.02  0.042 0.007 0.008 0.207]\n",
      " [0.001 0.002 0.001 0.002 0.    0.    0.006]\n",
      " [0.036 0.037 0.026 0.028 0.002 0.002 0.132]\n",
      " [0.015 0.024 0.008 0.011 0.005 0.005 0.067]\n",
      " [0.246 0.376 0.139 0.176 0.033 0.029 1.   ]]\n"
     ]
    }
   ],
   "source": [
    "total = K.sum()\n",
    "\n",
    "# Frequency Matrix\n",
    "F = K/total\n",
    "print(\"Matrice des frequences: \\n\", F)\n",
    "print(\"\\n\")\n",
    "\n",
    "# Marginal frequencies\n",
    "FiPlus = F.sum(axis=1)\n",
    "FjPlus = F.sum(axis=0)\n",
    "\n",
    "# Concatinating the marginals\n",
    "step_1 = np.hstack((F,FiPlus.reshape(-1,1)))\n",
    "step_2 = np.vstack((FjPlus.reshape(-1,1),np.array([1])))\n",
    "total_matrix = np.vstack((step_1,step_2.T))\n",
    "np.set_printoptions(precision=3, suppress=True)\n",
    "print(\"The frequecny matrix including marginals: \\n\",total_matrix)"
   ]
  },
  {
   "cell_type": "markdown",
   "id": "c48752a3",
   "metadata": {},
   "source": [
    "### 2) Déterminer et afficher les matrices des profils lignes et colonnes."
   ]
  },
  {
   "cell_type": "code",
   "execution_count": 59,
   "id": "bd54ee39",
   "metadata": {},
   "outputs": [
    {
     "name": "stdout",
     "output_type": "stream",
     "text": [
      "Matrice profiles lignes: \n",
      " [[0.346 0.208 0.205 0.184 0.537 0.326 0.192 0.127 0.272 0.215]\n",
      " [0.142 0.387 0.604 0.502 0.257 0.488 0.442 0.312 0.281 0.349]\n",
      " [0.304 0.121 0.037 0.06  0.13  0.076 0.096 0.142 0.197 0.121]\n",
      " [0.108 0.237 0.127 0.182 0.061 0.11  0.201 0.413 0.216 0.159]\n",
      " [0.072 0.024 0.009 0.025 0.01  0.    0.033 0.003 0.019 0.075]\n",
      " [0.028 0.022 0.018 0.047 0.006 0.    0.036 0.002 0.015 0.081]]\n",
      "\n",
      "Matrice profiles colonnes: \n",
      " [[0.215 0.058 0.337 0.094 0.336 0.145]\n",
      " [0.146 0.178 0.151 0.232 0.127 0.132]\n",
      " [0.084 0.161 0.027 0.072 0.026 0.06 ]\n",
      " [0.07  0.125 0.041 0.097 0.07  0.149]\n",
      " [0.068 0.021 0.029 0.011 0.01  0.006]\n",
      " [0.049 0.048 0.02  0.023 0.    0.   ]\n",
      " [0.161 0.243 0.143 0.236 0.204 0.256]\n",
      " [0.003 0.005 0.006 0.013 0.    0.   ]\n",
      " [0.146 0.099 0.188 0.162 0.075 0.065]\n",
      " [0.059 0.063 0.059 0.061 0.153 0.185]]\n"
     ]
    }
   ],
   "source": [
    "# profils lignes\n",
    "XL = F.T/FiPlus\n",
    "# profils colonnes\n",
    "XC = F/FjPlus.T\n",
    "\n",
    "print(\"Matrice profiles lignes: \\n\", XL)\n",
    "print()\n",
    "print(\"Matrice profiles colonnes: \\n\", XC)"
   ]
  },
  {
   "cell_type": "markdown",
   "id": "b2dec1b0",
   "metadata": {},
   "source": [
    "### Données en plus"
   ]
  },
  {
   "cell_type": "code",
   "execution_count": 60,
   "id": "52250091",
   "metadata": {},
   "outputs": [],
   "source": [
    "# les poids\n",
    "Di = np.diag(FiPlus)\n",
    "Gi = np.sqrt(FjPlus.T)\n",
    "\n",
    "Dj = np.diag(FjPlus)\n",
    "Gj = np.sqrt(FiPlus)"
   ]
  },
  {
   "attachments": {},
   "cell_type": "markdown",
   "id": "a5a01a86",
   "metadata": {},
   "source": [
    "(𝑿′𝑳)𝒊𝒋 = 𝒇𝒊𝒋 / (√𝒇+𝒋 × 𝒇𝒊+) = 𝟏/√𝒇+𝒋 * (𝒇𝒊𝒋 / 𝒇𝒊+).\n",
    "\n",
    "(𝑿′𝑪)𝒊𝒋 = 𝒇𝒊𝒋 /(√𝒇𝒊+ × 𝒇+𝒋) = 𝟏/√𝒇𝒊+ * (𝒇𝒊𝒋 / 𝒇+𝒋)."
   ]
  },
  {
   "cell_type": "code",
   "execution_count": 68,
   "id": "21a85522",
   "metadata": {},
   "outputs": [
    {
     "name": "stdout",
     "output_type": "stream",
     "text": [
      "Matrice des profils lignes transformés: \n",
      " [[0.696 0.232 0.817 0.256 0.398 0.162]\n",
      " [0.42  0.632 0.325 0.563 0.133 0.131]\n",
      " [0.413 0.985 0.1   0.302 0.048 0.103]\n",
      " [0.371 0.819 0.162 0.434 0.136 0.272]\n",
      " [1.081 0.418 0.348 0.145 0.056 0.034]\n",
      " [0.656 0.796 0.204 0.262 0.    0.   ]\n",
      " [0.387 0.72  0.257 0.48  0.179 0.213]\n",
      " [0.257 0.509 0.382 0.984 0.014 0.013]\n",
      " [0.548 0.459 0.53  0.514 0.103 0.085]\n",
      " [0.433 0.569 0.326 0.379 0.412 0.472]]\n",
      "\n",
      "Matrice des profils colonnes transformés: \n",
      " [[0.549 0.352 0.264 0.229 0.384 0.253 0.354 0.038 0.401 0.227]\n",
      " [0.148 0.429 0.509 0.409 0.12  0.249 0.534 0.062 0.272 0.241]\n",
      " [0.86  0.363 0.085 0.133 0.165 0.105 0.314 0.076 0.517 0.227]\n",
      " [0.239 0.558 0.228 0.316 0.061 0.12  0.519 0.174 0.445 0.234]\n",
      " [0.857 0.305 0.084 0.229 0.054 0.    0.448 0.006 0.205 0.588]\n",
      " [0.37  0.318 0.191 0.486 0.035 0.    0.563 0.006 0.179 0.714]]\n"
     ]
    }
   ],
   "source": [
    "# profils lignes transformés\n",
    "XLprime = XL.T*(1/Gi)\n",
    "# profils colonnes transformés\n",
    "XCprime = XC.T*(1/Gj)\n",
    "print(\"Matrice des profils lignes transformés: \\n\", XLprime)\n",
    "print()\n",
    "print(\"Matrice des profils colonnes transformés: \\n\", XCprime)"
   ]
  },
  {
   "cell_type": "code",
   "execution_count": 71,
   "id": "b8b43506",
   "metadata": {},
   "outputs": [
    {
     "name": "stdout",
     "output_type": "stream",
     "text": [
      "Matrice des profils lignes transformés et centrées: \n",
      " [[ 0.2   -0.381  0.445 -0.164  0.216 -0.01 ]\n",
      " [-0.077  0.018 -0.047  0.143 -0.049 -0.04 ]\n",
      " [-0.083  0.372 -0.272 -0.117 -0.134 -0.068]\n",
      " [-0.126  0.205 -0.21   0.014 -0.046  0.101]\n",
      " [ 0.585 -0.195 -0.024 -0.275 -0.126 -0.137]\n",
      " [ 0.16   0.183 -0.169 -0.158 -0.182 -0.171]\n",
      " [-0.109  0.107 -0.115  0.06  -0.003  0.041]\n",
      " [-0.24  -0.104  0.01   0.564 -0.167 -0.158]\n",
      " [ 0.052 -0.155  0.158  0.094 -0.079 -0.087]\n",
      " [-0.063 -0.045 -0.047 -0.041  0.23   0.3  ]]\n",
      "\n",
      "Matrice des profils colonnes transformés et centrées: \n",
      " [[ 0.158 -0.064 -0.053 -0.078  0.208  0.062 -0.1   -0.036  0.038 -0.033]\n",
      " [-0.244  0.012  0.192  0.103 -0.056  0.057  0.079 -0.013 -0.092 -0.019]\n",
      " [ 0.468 -0.053 -0.232 -0.173 -0.011 -0.087 -0.141  0.002  0.154 -0.033]\n",
      " [-0.153  0.142 -0.089  0.01  -0.115 -0.072  0.065  0.1    0.082 -0.025]\n",
      " [ 0.465 -0.111 -0.233 -0.077 -0.122 -0.192 -0.006 -0.068 -0.158  0.329]\n",
      " [-0.022 -0.098 -0.126  0.18  -0.141 -0.192  0.109 -0.068 -0.184  0.455]]\n",
      "Matrice d'inertie profils lignes:  \n",
      " [[ 0.024 -0.023  0.021 -0.013  0.004 -0.006]\n",
      " [-0.023  0.048 -0.047  0.006 -0.018  0.001]\n",
      " [ 0.021 -0.047  0.05  -0.008  0.019 -0.003]\n",
      " [-0.013  0.006 -0.008  0.016 -0.005  0.   ]\n",
      " [ 0.004 -0.018  0.019 -0.005  0.016  0.008]\n",
      " [-0.006  0.001 -0.003  0.     0.008  0.011]]\n",
      "Matrice d'inertie profils colonnes:  \n",
      " [[ 0.07  -0.013 -0.036 -0.025  0.014 -0.009 -0.022 -0.004  0.015  0.004]\n",
      " [-0.013  0.006  0.002  0.003 -0.006 -0.001  0.004  0.003  0.001 -0.002]\n",
      " [-0.036  0.002  0.026  0.014 -0.003  0.009  0.01  -0.001 -0.011 -0.004]\n",
      " [-0.025  0.003  0.014  0.011 -0.007  0.002  0.009  0.    -0.008  0.002]\n",
      " [ 0.014 -0.006 -0.003 -0.007  0.015  0.005 -0.008 -0.003  0.003 -0.004]\n",
      " [-0.009 -0.001  0.009  0.002  0.005  0.006  0.    -0.001 -0.002 -0.005]\n",
      " [-0.022  0.004  0.01   0.009 -0.008  0.     0.009  0.001 -0.006  0.002]\n",
      " [-0.004  0.003 -0.001  0.    -0.003 -0.001  0.001  0.002  0.002 -0.002]\n",
      " [ 0.015  0.001 -0.011 -0.008  0.003 -0.002 -0.006  0.002  0.01  -0.005]\n",
      " [ 0.004 -0.002 -0.004  0.002 -0.004 -0.005  0.002 -0.002 -0.005  0.01 ]]\n"
     ]
    }
   ],
   "source": [
    "# profils lignes transformés et centrés\n",
    "YL = XLprime - Gi.T\n",
    "\n",
    "# profils colonnes transformés et centrés\n",
    "YC = XCprime - Gj\n",
    "\n",
    "print(\"Matrice des profils lignes transformés et centrées: \\n\", YL)\n",
    "print()\n",
    "print(\"Matrice des profils colonnes transformés et centrées: \\n\", YC)\n",
    "\n",
    "# Matrice d'inertie profils lignes\n",
    "VI = YL.T @ Di @ YL\n",
    "print(\"Matrice d'inertie profils lignes:  \\n\", VI)\n",
    "# Matrice d'inertie profils colonnes\n",
    "VJ = YC.T @ Dj @ YC\n",
    "print(\"Matrice d'inertie profils colonnes:  \\n\", VJ)"
   ]
  },
  {
   "cell_type": "markdown",
   "id": "3b79a787",
   "metadata": {},
   "source": [
    "### 3) Afficher un tableau résumant les informations suivantes liées au nuage des profilslignes"
   ]
  },
  {
   "cell_type": "code",
   "execution_count": 75,
   "id": "f5c67d83",
   "metadata": {},
   "outputs": [
    {
     "name": "stdout",
     "output_type": "stream",
     "text": [
      "Valeurs propres de l'ACP_XL :\n",
      "[0.208 0.045 0.02  0.003 0.    0.   ]\n",
      "\n",
      "Taux d'inertie de l'ACP_XL :\n",
      "[0.753 0.163 0.073 0.011 0.    0.   ]\n",
      "\n",
      "Taux cumulés de l'information retenue :\n",
      "[0.753 0.916 0.989 1.    1.    1.   ]\n"
     ]
    }
   ],
   "source": [
    "from sklearn.decomposition import PCA\n",
    "import matplotlib.pyplot as plt\n",
    "\n",
    "# Calcul de l'ACP pour les profils lignes\n",
    "pca_XL = PCA()\n",
    "pca_XL.fit(XL)\n",
    "\n",
    "# Affichage des résultats\n",
    "print(\"Valeurs propres de l'ACP_XL :\")\n",
    "print(pca_XL.explained_variance_)\n",
    "print(\"\\nTaux d'inertie de l'ACP_XL :\")\n",
    "print(pca_XL.explained_variance_ratio_)\n",
    "print(\"\\nTaux cumulés de l'information retenue :\")\n",
    "print(pca_XL.explained_variance_ratio_.cumsum())"
   ]
  },
  {
   "cell_type": "markdown",
   "id": "ac779064",
   "metadata": {},
   "source": [
    "### 4) Donner les axes principaux de l’ACP des profils-lignes et ceux de l’ACP des profilscolonnes."
   ]
  },
  {
   "cell_type": "code",
   "execution_count": 77,
   "id": "2a2b9151",
   "metadata": {},
   "outputs": [
    {
     "name": "stdout",
     "output_type": "stream",
     "text": [
      "Vecteurs propres de l'ACP_XL :\n",
      "[[ 0.098  0.298  0.474  0.374  0.294  0.425  0.328  0.242  0.23   0.225]\n",
      " [ 0.504 -0.096 -0.216 -0.22   0.705  0.115 -0.155 -0.292  0.151 -0.025]\n",
      " [ 0.283  0.191 -0.355 -0.146 -0.061 -0.213  0.003  0.75   0.346 -0.067]\n",
      " [ 0.708 -0.006  0.213  0.017 -0.574 -0.024  0.066 -0.292  0.175  0.056]\n",
      " [ 0.207  0.196  0.218 -0.527 -0.01   0.27   0.122  0.228 -0.645 -0.196]\n",
      " [-0.002  0.732 -0.004  0.048 -0.009 -0.129 -0.567 -0.132 -0.118  0.304]]\n",
      "\n",
      "Vecteurs propres de l'ACP_XC :\n",
      "[[ 0.328  0.244  0.504  0.357  0.549  0.388]\n",
      " [ 0.094 -0.601  0.463 -0.454  0.316 -0.332]\n",
      " [-0.302 -0.155 -0.385 -0.407  0.428  0.623]\n",
      " [ 0.355  0.646 -0.096 -0.612  0.147 -0.227]\n",
      " [-0.48   0.174 -0.193  0.273  0.586 -0.533]\n",
      " [ 0.66  -0.328 -0.581  0.228  0.225 -0.126]]\n"
     ]
    }
   ],
   "source": [
    "print(\"Vecteurs propres de l'ACP_XL :\")\n",
    "print(pca_XL.components_)\n",
    "\n",
    "# Calcul de l'ACP pour les profils colonnes\n",
    "pca_XC = PCA()\n",
    "pca_XC.fit(XC)\n",
    "\n",
    "print()\n",
    "print(\"Vecteurs propres de l'ACP_XC :\")\n",
    "print(pca_XC.components_)"
   ]
  },
  {
   "cell_type": "markdown",
   "id": "edba3aad",
   "metadata": {},
   "source": [
    "### 5) Déterminer les Facteurs lignes (Composantes principales) correspondant aux axes du plan principal. On les note par : 𝜙𝑖 . Présenter les résultats dans un tableau. "
   ]
  },
  {
   "cell_type": "code",
   "execution_count": 92,
   "id": "c6068ab5",
   "metadata": {},
   "outputs": [
    {
     "name": "stdout",
     "output_type": "stream",
     "text": [
      "Facteurs lignes de l'ACP_XL :\n",
      "[[ 0.265  0.375 -0.01  -0.047  0.     0.   ]\n",
      " [ 0.752 -0.174 -0.106  0.027  0.     0.   ]\n",
      " [-0.183  0.112  0.108  0.097 -0.002  0.   ]\n",
      " [ 0.027 -0.182  0.23  -0.05   0.001  0.   ]\n",
      " [-0.435 -0.049 -0.101 -0.     0.009  0.   ]\n",
      " [-0.427 -0.083 -0.122 -0.027 -0.008  0.   ]]\n"
     ]
    },
    {
     "data": {
      "image/png": "[encoded data removed]",
      "text/plain": [
       "<Figure size 640x480 with 1 Axes>"
      ]
     },
     "metadata": {},
     "output_type": "display_data"
    }
   ],
   "source": [
    "# Facteurs lignes apres projection\n",
    "print(\"Facteurs lignes de l'ACP_XL :\")\n",
    "facteurLignes = pca_XL.transform(XL)\n",
    "print(facteurLignes)\n",
    "\n",
    "\n",
    "# Graphique\n",
    "plt.scatter(pca_XL.transform(XL)[:, 0], pca_XL.transform(XL)[:, 1])\n",
    "plt.xlabel(\"Axe 1 ({}% d'inertie)\".format(round(pca_XL.explained_variance_ratio_[0] * 100, 2)))\n",
    "plt.ylabel(\"Axe 2 ({}% d'inertie)\".format(round(pca_XL.explained_variance_ratio_[1] * 100, 2)))\n",
    "plt.show()"
   ]
  },
  {
   "attachments": {},
   "cell_type": "markdown",
   "id": "9f86014e",
   "metadata": {},
   "source": [
    "### 6) Déterminer les contributions relatives et absolues des lignes sur chaque axe. Présenter les résultats obtenus dans deux tableaux. Un tableau pour chaque type de contribution. "
   ]
  },
  {
   "cell_type": "code",
   "execution_count": 91,
   "id": "2118968f",
   "metadata": {},
   "outputs": [
    {
     "name": "stdout",
     "output_type": "stream",
     "text": [
      "Contributions relatives des lignes sur chaque axe principal:\n",
      "Echantillon 1: [0.287 0.505 0.004 0.061 0.013 0.005]\n",
      "Echantillon 2: [0.061 0.077 0.13  0.081 0.185 0.093]\n",
      "Echantillon 3: [0.029 0.057 0.013 0.514 0.007 0.074]\n",
      "Echantillon 4: [0.003 0.057 0.061 0.001 0.147 0.093]\n",
      "Echantillon 5: [0.114 0.035 0.004 0.008 0.102 0.498]\n",
      "Echantillon 6: [0.123 0.008 0.01  0.019 0.015 0.008]\n",
      "Echantillon 7: [0.198 0.232 0.024 0.007 0.003 0.02 ]\n",
      "Echantillon 8: [0.174 0.024 0.004 0.109 0.264 0.105]\n",
      "Echantillon 9: [0.01  0.005 0.308 0.116 0.252 0.102]\n",
      "Echantillon 10: [0.    0.    0.442 0.084 0.012 0.002]\n",
      "\n",
      "Contributions absolues des lignes sur chaque axe principal:\n",
      "Echantillon 1: [0.001 0.002 0.001 0.003 0.002 0.005]\n",
      "Echantillon 2: [0.    0.    0.    0.001 0.001 0.001]\n",
      "Echantillon 3: [0.    0.    0.    0.    0.    0.001]\n",
      "Echantillon 4: [0. 0. 0. 0. 0. 0.]\n",
      "Echantillon 5: [0.    0.    0.    0.001 0.001 0.002]\n",
      "Echantillon 6: [0.    0.    0.    0.001 0.001 0.002]\n",
      "Echantillon 7: [0.001 0.001 0.001 0.002 0.002 0.003]\n",
      "Echantillon 8: [0.001 0.    0.001 0.001 0.001 0.003]\n",
      "Echantillon 9: [0.    0.    0.    0.    0.    0.001]\n",
      "Echantillon 10: [0.    0.    0.    0.    0.    0.001]\n"
     ]
    }
   ],
   "source": [
    "XC_PCA = pca_XC.transform(XC)\n",
    "\n",
    "# Coordonnes des facteurs lignes \n",
    "factor_loadings = pca_XC.components_.T * np.sqrt(pca_XC.explained_variance_)\n",
    "\n",
    "# Contributions relatives et absolues des lignes\n",
    "contributions_rel = np.square(XC_PCA) / np.sum(np.square(XC_PCA), axis=0)\n",
    "contributions_abs = np.dot(np.square(XC_PCA), np.square(factor_loadings)) / np.sum(np.square(XC_PCA), axis=0)\n",
    "\n",
    "# Contributions relatives\n",
    "print('Contributions relatives des lignes sur chaque axe principal:')\n",
    "for i in range(len(XC)):\n",
    "    print('Echantillon {}:'.format(i+1), contributions_rel[i])\n",
    "\n",
    "# Contributions absolues\n",
    "print('\\nContributions absolues des lignes sur chaque axe principal:')\n",
    "for i in range(len(XC)):\n",
    "    print('Echantillon {}:'.format(i+1), contributions_abs[i])\n"
   ]
  },
  {
   "attachments": {},
   "cell_type": "markdown",
   "id": "4fb99130",
   "metadata": {},
   "source": [
    "### 7) Déterminer les Facteurs colonnes du nuage des profils-colonnes. On les notera par 𝜓𝑖. \n",
    "### Afficher les résultats obtenus dans un tableau à deux colonnes. "
   ]
  },
  {
   "cell_type": "code",
   "execution_count": 108,
   "id": "f95dc4d3",
   "metadata": {},
   "outputs": [
    {
     "name": "stdout",
     "output_type": "stream",
     "text": [
      "[0.174 0.038 0.017 0.003 0.    0.   ]\n",
      "[1. 1. 1. 1. 1. 1.]\n",
      "Facteurs colonnes :\n",
      "===================\n",
      "Nom de la colonne\tFacteur colonne\n",
      "L-H\t\t[-0.399  0.325 -0.013  0.306  0.27  -0.282]\n",
      "L-F\t\t[ 0.096 -0.095  0.159 -0.051 -0.004  0.017]\n",
      "M-H\t\t[ 0.248 -0.067 -0.065 -0.044 -0.045  0.219]\n",
      "M-F\t\t[ 0.033 -0.125 -0.096 -0.095 -0.113  0.03 ]\n",
      "D-H\t\t[ 0.053  0.114  0.008 -0.01   0.002  0.075]\n",
      "D-F\t\t[ 0.11   0.041  0.015 -0.004 -0.002  0.105]\n"
     ]
    }
   ],
   "source": [
    "# verifier si les facteurs lignes sont normalises\n",
    "variances = np.var(facteurLignes, axis=0)\n",
    "print(variances)\n",
    "\n",
    "# il faut normalises avant de calculer les facteurs colonnes\n",
    "facteurs_lignes_centres = facteurLignes - np.mean(facteurLignes, axis=0)\n",
    "facteurs_lignes_normalises = facteurs_lignes_centres / np.std(facteurs_lignes_centres, axis=0)\n",
    "\n",
    "NewVariances = np.var(facteurs_lignes_normalises, axis=0)\n",
    "print(NewVariances) # its working now => normalises!\n",
    "\n",
    "\n",
    "\n",
    "# facteurs colonnes\n",
    "facteurs_colonnes = np.dot(XC, facteurs_lignes_normalises)\n",
    "\n",
    "# Tableau des facteurs colonnes\n",
    "print(\"Facteurs colonnes :\")\n",
    "print(\"===================\")\n",
    "print(\"Nom de la colonne\\tFacteur colonne\")\n",
    "for i in range(len(columns)):\n",
    "    print(f\"{columns[i]}\\t\\t{facteurs_colonnes[i]}\")"
   ]
  },
  {
   "attachments": {},
   "cell_type": "markdown",
   "id": "45afaed0",
   "metadata": {},
   "source": [
    "### 8) Reprenez la question 5) pour les profils colonnes."
   ]
  },
  {
   "cell_type": "code",
   "execution_count": 106,
   "id": "eea6dc0f",
   "metadata": {},
   "outputs": [
    {
     "name": "stdout",
     "output_type": "stream",
     "text": [
      "Facteurs colonnes de l'ACP_XL :\n",
      "[[ 0.291  0.208  0.012  0.019  0.004 -0.002]\n",
      " [ 0.135 -0.081 -0.068 -0.022  0.016  0.007]\n",
      " [-0.093 -0.07  -0.021  0.056  0.003 -0.006]\n",
      " [-0.032 -0.07   0.047 -0.002 -0.014 -0.007]\n",
      " [-0.183  0.055 -0.011  0.007 -0.012  0.017]\n",
      " [-0.191  0.026 -0.019  0.011  0.005  0.002]\n",
      " [ 0.242 -0.141  0.029  0.006  0.002  0.003]\n",
      " [-0.227  0.046  0.011 -0.026  0.019 -0.008]\n",
      " [ 0.053  0.021 -0.105 -0.027 -0.019 -0.008]\n",
      " [ 0.005  0.006  0.126 -0.023 -0.004  0.001]]\n"
     ]
    },
    {
     "data": {
      "image/png": "[encoded data removed]",
      "text/plain": [
       "<Figure size 640x480 with 1 Axes>"
      ]
     },
     "metadata": {},
     "output_type": "display_data"
    }
   ],
   "source": [
    "# Facteurs lignes apres projection\n",
    "print(\"Facteurs colonnes de l'ACP_XL :\")\n",
    "facteurColonnes = pca_XC.transform(XC)\n",
    "print(facteurColonnes)\n",
    "\n",
    "\n",
    "# Graphique\n",
    "plt.scatter(pca_XC.transform(XC)[:, 0], pca_XC.transform(XC)[:, 1])\n",
    "plt.xlabel(\"Axe 1 ({}% d'inertie)\".format(round(pca_XC.explained_variance_ratio_[0] * 100, 2)))\n",
    "plt.ylabel(\"Axe 2 ({}% d'inertie)\".format(round(pca_XC.explained_variance_ratio_[1] * 100, 2)))\n",
    "plt.show()"
   ]
  },
  {
   "attachments": {},
   "cell_type": "markdown",
   "id": "1d8f9c5c",
   "metadata": {},
   "source": [
    "### 9) Visualiser  les  deux  nuages  dans  le  nouveau  plan  principal  (présentation  simultanée). \n",
    "### Etiqueter les profils-lignes et les profils-colonnes et Utiliser deux couleurs différentes afin de distinguer entre les deux nuages."
   ]
  },
  {
   "cell_type": "code",
   "execution_count": 112,
   "id": "4c4affa2",
   "metadata": {},
   "outputs": [
    {
     "data": {
      "image/png": "[encoded data removed]",
      "text/plain": [
       "<Figure size 640x480 with 1 Axes>"
      ]
     },
     "metadata": {},
     "output_type": "display_data"
    }
   ],
   "source": [
    "import matplotlib.pyplot as plt\n",
    "\n",
    "# Matrice de corrélation\n",
    "corr_matrix = np.corrcoef(K, rowvar=False)\n",
    "\n",
    "# Les vecteurs propres et les valeurs propres\n",
    "eig_vals, eig_vecs = np.linalg.eig(corr_matrix)\n",
    "\n",
    "loading_matrix = eig_vecs * np.sqrt(eig_vals)\n",
    "\n",
    "# Les coordonnées des profils-lignes dans le nouveau plan principal\n",
    "coordonnees_lignes = np.dot(XL.T, eig_vecs[:, :2])\n",
    "\n",
    "# Les coordonnées des profils-colonnes dans le nouveau plan principal\n",
    "coordonnees_colonnes = np.dot(XC, loading_matrix[:, :2])\n",
    "\n",
    "# Afficher le nuage de points\n",
    "fig, ax = plt.subplots()\n",
    "\n",
    "# afficher les profils-lignes dans le nuage de points, en utilisant une couleur rouge\n",
    "ax.scatter(coordonnees_lignes[:,0], coordonnees_lignes[:,1], c='r')\n",
    "for i, txt in enumerate(rows):\n",
    "    ax.annotate(txt, (coordonnees_lignes[i,0], coordonnees_lignes[i,1]))\n",
    "\n",
    "# afficher les profils-colonnes dans le nuage de points, en utilisant une couleur bleue\n",
    "ax.scatter(coordonnees_colonnes[:,0], coordonnees_colonnes[:,1], c='b')\n",
    "for i, txt in enumerate(columns):\n",
    "    ax.annotate(txt, (coordonnees_colonnes[i,0], coordonnees_colonnes[i,1]))\n",
    "\n",
    "# ajouter une légende pour distinguer les deux couleurs\n",
    "ax.legend(['Profils-lignes', 'Profils-colonnes'])\n",
    "\n",
    "plt.show()"
   ]
  },
  {
   "attachments": {},
   "cell_type": "markdown",
   "id": "ba21396b",
   "metadata": {},
   "source": [
    "### 10) Analyser et interpréter les résultats obtenus. "
   ]
  },
  {
   "cell_type": "code",
   "execution_count": null,
   "id": "19d64b98",
   "metadata": {},
   "outputs": [],
   "source": []
  },
  {
   "attachments": {},
   "cell_type": "markdown",
   "id": "a1327a6a",
   "metadata": {},
   "source": [
    "### 11) Que signifie chaque axe ?"
   ]
  },
  {
   "attachments": {},
   "cell_type": "markdown",
   "id": "f453d0ec",
   "metadata": {},
   "source": []
  }
 ],
 "metadata": {
  "kernelspec": {
   "display_name": "base",
   "language": "python",
   "name": "python3"
  },
  "language_info": {
   "codemirror_mode": {
    "name": "ipython",
    "version": 3
   },
   "file_extension": ".py",
   "mimetype": "text/x-python",
   "name": "python",
   "nbconvert_exporter": "python",
   "pygments_lexer": "ipython3",
   "version": "3.9.13"
  },
  "vscode": {
   "interpreter": {
    "hash": "d9b4001dba382b19493dd9a0ec57596ede15a12bcfa4e609cc626fa5b3b92870"
   }
  }
 },
 "nbformat": 4,
 "nbformat_minor": 5
}

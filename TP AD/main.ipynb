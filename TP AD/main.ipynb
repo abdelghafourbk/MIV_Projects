{
 "cells": [
  {
   "cell_type": "code",
   "execution_count": null,
   "metadata": {},
   "outputs": [],
   "source": [
    "import numpy as np\n",
    "import matplotlib.pyplot as plt\n",
    "import seaborn as sns\n",
    "import pandas as pd"
   ]
  },
  {
   "attachments": {},
   "cell_type": "markdown",
   "metadata": {},
   "source": [
    "- Utils"
   ]
  },
  {
   "cell_type": "code",
   "execution_count": null,
   "metadata": {},
   "outputs": [],
   "source": [
    "def show_matrix(matrix:np.ndarray):\n",
    "    print(\"---------------------------\")\n",
    "    return print(matrix)"
   ]
  },
  {
   "attachments": {},
   "cell_type": "markdown",
   "metadata": {},
   "source": [
    "- Dataset"
   ]
  },
  {
   "cell_type": "code",
   "execution_count": 3,
   "metadata": {},
   "outputs": [
    {
     "name": "stdout",
     "output_type": "stream",
     "text": [
      "---------------------------\n",
      "[[2 2 0]\n",
      " [2 2 2]\n",
      " [2 0 0]\n",
      " [0 2 2]\n",
      " [0 0 2]]\n"
     ]
    }
   ],
   "source": [
    "K_data = np.array([\n",
    "    [2 ,2 ,0 ],\n",
    "    [2 ,2 ,2 ],\n",
    "    [2 ,0, 0 ],\n",
    "    [0 ,2, 2 ],\n",
    "    [0 ,0 ,2 ]\n",
    "])\n",
    "show_matrix(K_data)"
   ]
  },
  {
   "attachments": {},
   "cell_type": "markdown",
   "metadata": {},
   "source": [
    "- Fréquence relative et marginale"
   ]
  },
  {
   "cell_type": "code",
   "execution_count": 4,
   "metadata": {},
   "outputs": [
    {
     "name": "stdout",
     "output_type": "stream",
     "text": [
      "---------------------------\n",
      "[[0.11111111 0.11111111 0.         0.22222222]\n",
      " [0.11111111 0.11111111 0.11111111 0.33333333]\n",
      " [0.11111111 0.         0.         0.11111111]\n",
      " [0.         0.11111111 0.11111111 0.22222222]\n",
      " [0.         0.         0.11111111 0.11111111]\n",
      " [0.33333333 0.33333333 0.33333333 1.        ]]\n"
     ]
    }
   ],
   "source": [
    "# somme des individus\n",
    "total_individus = K_data.sum()\n",
    "# matrice fréquence relative\n",
    "F_relative = K_data/total_individus\n",
    "# matrice fréquence marginal ligne et colonne\n",
    "F_ligne_marginal = F_relative.sum(axis=1).reshape(-1,1)\n",
    "F_colonne_marginal = F_relative.sum(axis=0).reshape(-1,1)\n",
    "# matrice total\n",
    "step_1 = np.hstack((F_relative,F_ligne_marginal))\n",
    "step_2 = np.vstack((F_colonne_marginal,np.array([1])))\n",
    "\n",
    "total_matrix = np.vstack((step_1,step_2.T))\n",
    "show_matrix(total_matrix)"
   ]
  },
  {
   "attachments": {},
   "cell_type": "markdown",
   "metadata": {},
   "source": [
    "- Nuage profil ligne et colonne simple"
   ]
  },
  {
   "cell_type": "code",
   "execution_count": 10,
   "metadata": {},
   "outputs": [
    {
     "name": "stdout",
     "output_type": "stream",
     "text": [
      "---------------------------\n",
      "[[0.5        0.5        0.        ]\n",
      " [0.33333333 0.33333333 0.33333333]\n",
      " [1.         0.         0.        ]\n",
      " [0.         0.5        0.5       ]\n",
      " [0.         0.         1.        ]]\n",
      "---------------------------\n",
      "[[0.33333333 0.33333333 0.        ]\n",
      " [0.33333333 0.33333333 0.33333333]\n",
      " [0.33333333 0.         0.        ]\n",
      " [0.         0.33333333 0.33333333]\n",
      " [0.         0.         0.33333333]]\n"
     ]
    }
   ],
   "source": [
    "profil_ligne = F_relative/F_ligne_marginal\n",
    "profil_colonne = F_relative/F_colonne_marginal.T\n",
    "\n",
    "show_matrix(profil_ligne)\n",
    "show_matrix(profil_colonne)"
   ]
  },
  {
   "attachments": {},
   "cell_type": "markdown",
   "metadata": {},
   "source": [
    "- Nuage profil ligne et colonne transformé"
   ]
  },
  {
   "cell_type": "code",
   "execution_count": 6,
   "metadata": {},
   "outputs": [
    {
     "name": "stdout",
     "output_type": "stream",
     "text": [
      "---------------------------\n",
      "[[0.8660254  0.8660254  0.        ]\n",
      " [0.57735027 0.57735027 0.57735027]\n",
      " [1.73205081 0.         0.        ]\n",
      " [0.         0.8660254  0.8660254 ]\n",
      " [0.         0.         1.73205081]]\n",
      "---------------------------\n",
      "[[0.70710678 0.70710678 0.        ]\n",
      " [0.57735027 0.57735027 0.57735027]\n",
      " [1.         0.         0.        ]\n",
      " [0.         0.70710678 0.70710678]\n",
      " [0.         0.         1.        ]]\n"
     ]
    }
   ],
   "source": [
    "profil_ligne_transforme = profil_ligne*(1/np.sqrt(F_colonne_marginal.T))\n",
    "profil_colonne_transforme = profil_colonne*(1/np.sqrt(F_ligne_marginal))\n",
    "\n",
    "show_matrix(profil_ligne_transforme)\n",
    "show_matrix(profil_colonne_transforme)"
   ]
  },
  {
   "attachments": {},
   "cell_type": "markdown",
   "metadata": {},
   "source": [
    "- Nuage profil ligne et colonne transformé centrée"
   ]
  },
  {
   "cell_type": "code",
   "execution_count": 31,
   "metadata": {},
   "outputs": [
    {
     "name": "stdout",
     "output_type": "stream",
     "text": [
      "---------------------------\n",
      "[[0.57735027 0.57735027 0.57735027]]\n",
      "---------------------------\n",
      "[[ 0.28867513  0.28867513 -0.57735027]\n",
      " [ 0.          0.          0.        ]\n",
      " [ 1.15470054 -0.57735027 -0.57735027]\n",
      " [-0.57735027  0.28867513  0.28867513]\n",
      " [-0.57735027 -0.57735027  1.15470054]]\n"
     ]
    }
   ],
   "source": [
    "centre_gravite_ligne = np.sqrt(F_colonne_marginal)\n",
    "centre_gravite_colonne =  np.sqrt(F_ligne_marginal)\n",
    "\n",
    "# matrice des variances covariance ou matrice d'inertie\n",
    "profil_ligne_transforme_centre = profil_ligne_transforme-centre_gravite_ligne.T \n",
    "# matrice des variances covariance ou matrice d'inertie\n",
    "profil_colonne_transforme_centre = profil_colonne_transforme-centre_gravite_colonne\n",
    "\n",
    "\n",
    "# show_matrix(profil_ligne_transforme_centre.std())\n",
    "show_matrix(centre_gravite_ligne.T)\n",
    "show_matrix(profil_ligne_transforme_centre)"
   ]
  },
  {
   "attachments": {},
   "cell_type": "markdown",
   "metadata": {},
   "source": [
    "- ACP composantes  principales  (facteurs  lignes)  du  nuage  des  profils-lignes"
   ]
  },
  {
   "cell_type": "code",
   "execution_count": 34,
   "metadata": {},
   "outputs": [],
   "source": [
    "\"\"\"\n",
    "La matrice des variances-covariances, \n",
    "n'est que la matrice profil_ligne_transform_centre, \n",
    "donc l'inertie est la trace de cette matrice\n",
    "\"\"\"\n",
    "# matrice poids touours matrice carré \n",
    "matrice_poids = np.zeros((5,5))\n",
    "np.fill_diagonal(matrice_poids,F_ligne_marginal)\n",
    "\n",
    "\n",
    "# matrice YL = Xl TRANSOFRME - CENTRE gravité a pas confondre avec le profil colonne\n",
    "matrice_centre_ligne = profil_ligne_transforme_centre.T.dot(matrice_poids).dot(profil_ligne_transforme_centre)\n",
    "matrice_centre_colone =  profil_colonne_transforme_centre.T.dot(matrice_poids).dot(profil_colonne_transforme_centre)"
   ]
  },
  {
   "cell_type": "code",
   "execution_count": 39,
   "metadata": {},
   "outputs": [
    {
     "name": "stdout",
     "output_type": "stream",
     "text": [
      "---------------------------\n",
      "[5.00000000e-01 3.06054180e-17 1.66666667e-01]\n",
      "---------------------------\n",
      "[[5.00000000e-01 2.77777778e-01 2.77777778e-01]\n",
      " [1.66666667e-01 1.11111111e-01 3.88888889e-01]\n",
      " [3.06054180e-17 2.77777778e-01 6.66666667e-01]]\n"
     ]
    }
   ],
   "source": [
    "eig_val,eig_vect = np.linalg.eig(matrice_centre_ligne)\n",
    "eig_val = np.real(eig_val)\n",
    "eig_vect = np.real(eig_vect)\n",
    "\n",
    "show_matrix(eig_val)\n",
    "\n",
    "index = np.argsort(eig_val)[::-1]\n",
    "eig_val = eig_val[index]\n",
    "eig_vect = eig_vect[:,index]\n",
    "\n",
    "# nb_variable = matrice_centre_ligne.shape[1]\n",
    "taux_inertie = np.diag(matrice_centre_ligne) # trace de la matrice\n",
    "# show_matrix(taux_inertie)\n",
    "# le taux d'inertie cumulé est donc égale à 1 (100%)\n",
    "cumul_taux_inertie = np.cumsum(taux_inertie)\n",
    "\n",
    "table_info = np.hstack((np.hstack((eig_val.reshape(-1,1),taux_inertie.reshape(-1,1))),cumul_taux_inertie.reshape(-1,1)))\n",
    "show_matrix(table_info)"
   ]
  }
 ],
 "metadata": {
  "kernelspec": {
   "display_name": "Python 3",
   "language": "python",
   "name": "python3"
  },
  "language_info": {
   "codemirror_mode": {
    "name": "ipython",
    "version": 3
   },
   "file_extension": ".py",
   "mimetype": "text/x-python",
   "name": "python",
   "nbconvert_exporter": "python",
   "pygments_lexer": "ipython3",
   "version": "3.10.6"
  },
  "orig_nbformat": 4,
  "vscode": {
   "interpreter": {
    "hash": "916dbcbb3f70747c44a77c7bcd40155683ae19c65e1c03b4aa3499c5328201f1"
   }
  }
 },
 "nbformat": 4,
 "nbformat_minor": 2
}
